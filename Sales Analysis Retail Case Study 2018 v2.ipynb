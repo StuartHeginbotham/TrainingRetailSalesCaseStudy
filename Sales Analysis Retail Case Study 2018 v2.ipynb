{
 "cells": [
  {
   "cell_type": "code",
   "execution_count": 1,
   "metadata": {
    "collapsed": true
   },
   "outputs": [],
   "source": [
    "#import numpy as pandas is based on numpy arrays and we want to use some of this library's functions\n",
    "import numpy as np\n",
    "\n",
    "#import pandas to read csv excel and other file types as dataframes\n",
    "import pandas as pd  \n",
    "\n",
    "#import matplotlib to produce graphs\n",
    "import matplotlib.pyplot as plt \n",
    "\n",
    "# set matplotlib to display inline in this notebook\n",
    "%matplotlib inline \n"
   ]
  },
  {
   "cell_type": "markdown",
   "metadata": {},
   "source": [
    "### Read in data set and clean up"
   ]
  },
  {
   "cell_type": "code",
   "execution_count": 2,
   "metadata": {},
   "outputs": [
    {
     "name": "stdout",
     "output_type": "stream",
     "text": [
      "<class 'pandas.core.frame.DataFrame'>\n",
      "Int64Index: 397924 entries, 0 to 541908\n",
      "Data columns (total 8 columns):\n",
      "InvoiceNo      397924 non-null object\n",
      "StockCode      397924 non-null object\n",
      "Description    397924 non-null object\n",
      "Quantity       397924 non-null int64\n",
      "InvoiceDate    397924 non-null datetime64[ns]\n",
      "UnitPrice      397924 non-null float64\n",
      "CustomerID     397924 non-null object\n",
      "Country        397924 non-null object\n",
      "dtypes: datetime64[ns](1), float64(1), int64(1), object(5)\n",
      "memory usage: 27.3+ MB\n"
     ]
    }
   ],
   "source": [
    "#read in excel sheet using pandas (this assumes in same folder as this note book, otherwise specify full path)\n",
    "myDF=pd.read_excel('Online Retail.xlsx')\n",
    "newDF=myDF[myDF['Quantity']>0].dropna()  # only include row with positive quantities and drop rows with missing data\n",
    "newDF['CustomerID']=newDF['CustomerID'].apply(lambda x:str('{:.0f}'.format(x))) # fix customer ID\n",
    "newDF.info()"
   ]
  },
  {
   "cell_type": "markdown",
   "metadata": {},
   "source": [
    "# What are the most popular products, \n",
    "### By how much\n",
    "### What is their price variance\n",
    "### how does demand vary with price\n",
    "### when are they sold, \n",
    "### who are they sold to, "
   ]
  },
  {
   "cell_type": "code",
   "execution_count": 3,
   "metadata": {
    "collapsed": true
   },
   "outputs": [],
   "source": [
    "def freq_cat(x):\n",
    "    return x.value_counts().sort_values(ascending=False)/x.value_counts().sum()*100"
   ]
  },
  {
   "cell_type": "code",
   "execution_count": 10,
   "metadata": {},
   "outputs": [
    {
     "data": {
      "text/plain": [
       "WHITE HANGING HEART T-LIGHT HOLDER    0.509645\n",
       "REGENCY CAKESTAND 3 TIER              0.942894\n",
       "JUMBO BAG RED RETROSPOT               1.349504\n",
       "ASSORTED COLOUR BIRD ORNAMENT         1.703340\n",
       "PARTY BUNTING                         2.054412\n",
       "LUNCH BAG RED RETROSPOT               2.385129\n",
       "SET OF 3 CAKE TINS PANTRY DESIGN      2.676390\n",
       "LUNCH BAG  BLACK SKULL.               2.954082\n",
       "POSTAGE                               3.230265\n",
       "PACK OF 72 RETROSPOT CAKE CASES       3.498658\n",
       "PAPER CHAIN KIT 50'S CHRISTMAS        3.754737\n",
       "SPOTTY BUNTING                        4.010314\n",
       "LUNCH BAG SPACEBOY DESIGN             4.263628\n",
       "LUNCH BAG CARS BLUE                   4.512168\n",
       "HEART OF WICKER SMALL                 4.759703\n",
       "NATURAL SLATE HEART CHALKBOARD        5.005981\n",
       "LUNCH BAG PINK POLKADOT               5.246479\n",
       "REX CASH+CARRY JUMBO SHOPPER          5.485721\n",
       "LUNCH BAG SUKI DESIGN                 5.720188\n",
       "ALARM CLOCK BAKELIKE RED              5.946110\n",
       "Name: Description, dtype: float64"
      ]
     },
     "execution_count": 10,
     "metadata": {},
     "output_type": "execute_result"
    }
   ],
   "source": [
    "freq_cat(newDF['Description']).head(20).cumsum()"
   ]
  },
  {
   "cell_type": "code",
   "execution_count": 9,
   "metadata": {},
   "outputs": [
    {
     "data": {
      "text/plain": [
       "2.95    1652\n",
       "2.55     357\n",
       "5.79       9\n",
       "3.20       5\n",
       "3.24       4\n",
       "2.40       1\n",
       "Name: UnitPrice, dtype: int64"
      ]
     },
     "execution_count": 9,
     "metadata": {},
     "output_type": "execute_result"
    }
   ],
   "source": [
    "newDF['UnitPrice'][newDF['Description']=='WHITE HANGING HEART T-LIGHT HOLDER']\\\n",
    "    .value_counts()\\\n",
    "    .sort_values(ascending=False)\n",
    "    "
   ]
  },
  {
   "cell_type": "code",
   "execution_count": 15,
   "metadata": {},
   "outputs": [
    {
     "data": {
      "text/plain": [
       "['WHITE HANGING HEART T-LIGHT HOLDER',\n",
       " 'REGENCY CAKESTAND 3 TIER',\n",
       " 'JUMBO BAG RED RETROSPOT',\n",
       " 'ASSORTED COLOUR BIRD ORNAMENT',\n",
       " 'PARTY BUNTING']"
      ]
     },
     "execution_count": 15,
     "metadata": {},
     "output_type": "execute_result"
    }
   ],
   "source": [
    "tpL=freq_cat(newDF['Description']).head(5).index.tolist()\n",
    "tpL"
   ]
  },
  {
   "cell_type": "code",
   "execution_count": 12,
   "metadata": {},
   "outputs": [
    {
     "data": {
      "text/plain": [
       "WHITE HANGING HEART T-LIGHT HOLDER    0.509645\n",
       "REGENCY CAKESTAND 3 TIER              0.433249\n",
       "JUMBO BAG RED RETROSPOT               0.406610\n",
       "ASSORTED COLOUR BIRD ORNAMENT         0.353836\n",
       "PARTY BUNTING                         0.351072\n",
       "Name: Description, dtype: float64"
      ]
     },
     "execution_count": 12,
     "metadata": {},
     "output_type": "execute_result"
    }
   ],
   "source": [
    "freq_cat(newDF['Description']).head(5)"
   ]
  },
  {
   "cell_type": "code",
   "execution_count": 16,
   "metadata": {},
   "outputs": [
    {
     "data": {
      "text/plain": [
       "2.95    1652\n",
       "2.55     357\n",
       "5.79       9\n",
       "3.20       5\n",
       "3.24       4\n",
       "2.40       1\n",
       "Name: UnitPrice, dtype: int64"
      ]
     },
     "execution_count": 16,
     "metadata": {},
     "output_type": "execute_result"
    }
   ],
   "source": [
    "def priceDist(d):\n",
    "    return newDF['UnitPrice'][newDF['Description']==d].value_counts().sort_values(ascending=False)\n",
    "    \n",
    "priceDist('WHITE HANGING HEART T-LIGHT HOLDER')"
   ]
  },
  {
   "cell_type": "code",
   "execution_count": 21,
   "metadata": {},
   "outputs": [
    {
     "name": "stdout",
     "output_type": "stream",
     "text": [
      "WHITE HANGING HEART T-LIGHT HOLDER 2.95    1652\n",
      "2.55     357\n",
      "5.79       9\n",
      "3.20       5\n",
      "3.24       4\n",
      "2.40       1\n",
      "Name: UnitPrice, dtype: int64\n",
      "REGENCY CAKESTAND 3 TIER 12.75    1401\n",
      "10.95     309\n",
      "24.96      10\n",
      "4.00        2\n",
      "0.00        1\n",
      "5.00        1\n",
      "Name: UnitPrice, dtype: int64\n",
      "JUMBO BAG RED RETROSPOT 2.08    1077\n",
      "1.95     319\n",
      "1.79     135\n",
      "1.65      65\n",
      "1.74      11\n",
      "1.75       5\n",
      "4.13       5\n",
      "2.04       1\n",
      "Name: UnitPrice, dtype: int64\n",
      "ASSORTED COLOUR BIRD ORNAMENT 1.69    1354\n",
      "1.45      54\n",
      "Name: UnitPrice, dtype: int64\n",
      "PARTY BUNTING 4.95     1205\n",
      "4.15      103\n",
      "4.65       70\n",
      "3.75       13\n",
      "10.79       3\n",
      "4.30        2\n",
      "0.00        1\n",
      "Name: UnitPrice, dtype: int64\n"
     ]
    }
   ],
   "source": [
    "for i in tpL:\n",
    "    print(i,priceDist(i))"
   ]
  },
  {
   "cell_type": "code",
   "execution_count": 23,
   "metadata": {},
   "outputs": [
    {
     "data": {
      "text/html": [
       "<div>\n",
       "<style>\n",
       "    .dataframe thead tr:only-child th {\n",
       "        text-align: right;\n",
       "    }\n",
       "\n",
       "    .dataframe thead th {\n",
       "        text-align: left;\n",
       "    }\n",
       "\n",
       "    .dataframe tbody tr th {\n",
       "        vertical-align: top;\n",
       "    }\n",
       "</style>\n",
       "<table border=\"1\" class=\"dataframe\">\n",
       "  <thead>\n",
       "    <tr style=\"text-align: right;\">\n",
       "      <th></th>\n",
       "      <th>InvoiceNo</th>\n",
       "      <th>StockCode</th>\n",
       "      <th>Description</th>\n",
       "      <th>Quantity</th>\n",
       "      <th>InvoiceDate</th>\n",
       "      <th>UnitPrice</th>\n",
       "      <th>CustomerID</th>\n",
       "      <th>Country</th>\n",
       "      <th>UnitSalesValue</th>\n",
       "    </tr>\n",
       "  </thead>\n",
       "  <tbody>\n",
       "    <tr>\n",
       "      <th>0</th>\n",
       "      <td>536365</td>\n",
       "      <td>85123A</td>\n",
       "      <td>WHITE HANGING HEART T-LIGHT HOLDER</td>\n",
       "      <td>6</td>\n",
       "      <td>2010-12-01 08:26:00</td>\n",
       "      <td>2.55</td>\n",
       "      <td>17850</td>\n",
       "      <td>United Kingdom</td>\n",
       "      <td>15.30</td>\n",
       "    </tr>\n",
       "    <tr>\n",
       "      <th>1</th>\n",
       "      <td>536365</td>\n",
       "      <td>71053</td>\n",
       "      <td>WHITE METAL LANTERN</td>\n",
       "      <td>6</td>\n",
       "      <td>2010-12-01 08:26:00</td>\n",
       "      <td>3.39</td>\n",
       "      <td>17850</td>\n",
       "      <td>United Kingdom</td>\n",
       "      <td>20.34</td>\n",
       "    </tr>\n",
       "    <tr>\n",
       "      <th>2</th>\n",
       "      <td>536365</td>\n",
       "      <td>84406B</td>\n",
       "      <td>CREAM CUPID HEARTS COAT HANGER</td>\n",
       "      <td>8</td>\n",
       "      <td>2010-12-01 08:26:00</td>\n",
       "      <td>2.75</td>\n",
       "      <td>17850</td>\n",
       "      <td>United Kingdom</td>\n",
       "      <td>22.00</td>\n",
       "    </tr>\n",
       "  </tbody>\n",
       "</table>\n",
       "</div>"
      ],
      "text/plain": [
       "  InvoiceNo StockCode                         Description  Quantity  \\\n",
       "0    536365    85123A  WHITE HANGING HEART T-LIGHT HOLDER         6   \n",
       "1    536365     71053                 WHITE METAL LANTERN         6   \n",
       "2    536365    84406B      CREAM CUPID HEARTS COAT HANGER         8   \n",
       "\n",
       "          InvoiceDate  UnitPrice CustomerID         Country  UnitSalesValue  \n",
       "0 2010-12-01 08:26:00       2.55      17850  United Kingdom           15.30  \n",
       "1 2010-12-01 08:26:00       3.39      17850  United Kingdom           20.34  \n",
       "2 2010-12-01 08:26:00       2.75      17850  United Kingdom           22.00  "
      ]
     },
     "execution_count": 23,
     "metadata": {},
     "output_type": "execute_result"
    }
   ],
   "source": [
    "newDF['UnitSalesValue']=newDF['UnitPrice']*newDF['Quantity']\n",
    "newDF.head(3)"
   ]
  },
  {
   "cell_type": "code",
   "execution_count": 25,
   "metadata": {},
   "outputs": [
    {
     "data": {
      "text/html": [
       "<div>\n",
       "<style>\n",
       "    .dataframe thead tr:only-child th {\n",
       "        text-align: right;\n",
       "    }\n",
       "\n",
       "    .dataframe thead th {\n",
       "        text-align: left;\n",
       "    }\n",
       "\n",
       "    .dataframe tbody tr th {\n",
       "        vertical-align: top;\n",
       "    }\n",
       "</style>\n",
       "<table border=\"1\" class=\"dataframe\">\n",
       "  <thead>\n",
       "    <tr style=\"text-align: right;\">\n",
       "      <th></th>\n",
       "      <th>UnitSalesValue</th>\n",
       "    </tr>\n",
       "    <tr>\n",
       "      <th>Description</th>\n",
       "      <th></th>\n",
       "    </tr>\n",
       "  </thead>\n",
       "  <tbody>\n",
       "    <tr>\n",
       "      <th>PAPER CRAFT , LITTLE BIRDIE</th>\n",
       "      <td>168469.60</td>\n",
       "    </tr>\n",
       "    <tr>\n",
       "      <th>REGENCY CAKESTAND 3 TIER</th>\n",
       "      <td>142592.95</td>\n",
       "    </tr>\n",
       "    <tr>\n",
       "      <th>WHITE HANGING HEART T-LIGHT HOLDER</th>\n",
       "      <td>100448.15</td>\n",
       "    </tr>\n",
       "    <tr>\n",
       "      <th>JUMBO BAG RED RETROSPOT</th>\n",
       "      <td>85220.78</td>\n",
       "    </tr>\n",
       "    <tr>\n",
       "      <th>MEDIUM CERAMIC TOP STORAGE JAR</th>\n",
       "      <td>81416.73</td>\n",
       "    </tr>\n",
       "    <tr>\n",
       "      <th>POSTAGE</th>\n",
       "      <td>77803.96</td>\n",
       "    </tr>\n",
       "    <tr>\n",
       "      <th>PARTY BUNTING</th>\n",
       "      <td>68844.33</td>\n",
       "    </tr>\n",
       "    <tr>\n",
       "      <th>ASSORTED COLOUR BIRD ORNAMENT</th>\n",
       "      <td>56580.34</td>\n",
       "    </tr>\n",
       "    <tr>\n",
       "      <th>Manual</th>\n",
       "      <td>53779.93</td>\n",
       "    </tr>\n",
       "    <tr>\n",
       "      <th>RABBIT NIGHT LIGHT</th>\n",
       "      <td>51346.20</td>\n",
       "    </tr>\n",
       "  </tbody>\n",
       "</table>\n",
       "</div>"
      ],
      "text/plain": [
       "                                    UnitSalesValue\n",
       "Description                                       \n",
       "PAPER CRAFT , LITTLE BIRDIE              168469.60\n",
       "REGENCY CAKESTAND 3 TIER                 142592.95\n",
       "WHITE HANGING HEART T-LIGHT HOLDER       100448.15\n",
       "JUMBO BAG RED RETROSPOT                   85220.78\n",
       "MEDIUM CERAMIC TOP STORAGE JAR            81416.73\n",
       "POSTAGE                                   77803.96\n",
       "PARTY BUNTING                             68844.33\n",
       "ASSORTED COLOUR BIRD ORNAMENT             56580.34\n",
       "Manual                                    53779.93\n",
       "RABBIT NIGHT LIGHT                        51346.20"
      ]
     },
     "execution_count": 25,
     "metadata": {},
     "output_type": "execute_result"
    }
   ],
   "source": [
    "newDF[['Description','UnitSalesValue']].groupby('Description')\\\n",
    "    .sum()\\\n",
    "    .sort_values('UnitSalesValue',ascending=False).head(10)"
   ]
  },
  {
   "cell_type": "code",
   "execution_count": 15,
   "metadata": {},
   "outputs": [
    {
     "data": {
      "text/html": [
       "<div>\n",
       "<style>\n",
       "    .dataframe thead tr:only-child th {\n",
       "        text-align: right;\n",
       "    }\n",
       "\n",
       "    .dataframe thead th {\n",
       "        text-align: left;\n",
       "    }\n",
       "\n",
       "    .dataframe tbody tr th {\n",
       "        vertical-align: top;\n",
       "    }\n",
       "</style>\n",
       "<table border=\"1\" class=\"dataframe\">\n",
       "  <thead>\n",
       "    <tr style=\"text-align: right;\">\n",
       "      <th></th>\n",
       "      <th>UnitSalesValue</th>\n",
       "    </tr>\n",
       "    <tr>\n",
       "      <th>Description</th>\n",
       "      <th></th>\n",
       "    </tr>\n",
       "  </thead>\n",
       "  <tbody>\n",
       "    <tr>\n",
       "      <th>PAPER CRAFT , LITTLE BIRDIE</th>\n",
       "      <td>1.890494</td>\n",
       "    </tr>\n",
       "    <tr>\n",
       "      <th>REGENCY CAKESTAND 3 TIER</th>\n",
       "      <td>3.490611</td>\n",
       "    </tr>\n",
       "    <tr>\n",
       "      <th>WHITE HANGING HEART T-LIGHT HOLDER</th>\n",
       "      <td>4.617797</td>\n",
       "    </tr>\n",
       "    <tr>\n",
       "      <th>JUMBO BAG RED RETROSPOT</th>\n",
       "      <td>5.574108</td>\n",
       "    </tr>\n",
       "    <tr>\n",
       "      <th>MEDIUM CERAMIC TOP STORAGE JAR</th>\n",
       "      <td>6.487731</td>\n",
       "    </tr>\n",
       "    <tr>\n",
       "      <th>POSTAGE</th>\n",
       "      <td>7.360814</td>\n",
       "    </tr>\n",
       "    <tr>\n",
       "      <th>PARTY BUNTING</th>\n",
       "      <td>8.133356</td>\n",
       "    </tr>\n",
       "    <tr>\n",
       "      <th>ASSORTED COLOUR BIRD ORNAMENT</th>\n",
       "      <td>8.768276</td>\n",
       "    </tr>\n",
       "    <tr>\n",
       "      <th>Manual</th>\n",
       "      <td>9.371771</td>\n",
       "    </tr>\n",
       "    <tr>\n",
       "      <th>RABBIT NIGHT LIGHT</th>\n",
       "      <td>9.947956</td>\n",
       "    </tr>\n",
       "  </tbody>\n",
       "</table>\n",
       "</div>"
      ],
      "text/plain": [
       "                                    UnitSalesValue\n",
       "Description                                       \n",
       "PAPER CRAFT , LITTLE BIRDIE               1.890494\n",
       "REGENCY CAKESTAND 3 TIER                  3.490611\n",
       "WHITE HANGING HEART T-LIGHT HOLDER        4.617797\n",
       "JUMBO BAG RED RETROSPOT                   5.574108\n",
       "MEDIUM CERAMIC TOP STORAGE JAR            6.487731\n",
       "POSTAGE                                   7.360814\n",
       "PARTY BUNTING                             8.133356\n",
       "ASSORTED COLOUR BIRD ORNAMENT             8.768276\n",
       "Manual                                    9.371771\n",
       "RABBIT NIGHT LIGHT                        9.947956"
      ]
     },
     "execution_count": 15,
     "metadata": {},
     "output_type": "execute_result"
    }
   ],
   "source": [
    "newDF[['Description','UnitSalesValue']]\\\n",
    "    .groupby('Description')\\\n",
    "    .sum()\\\n",
    "    .sort_values('UnitSalesValue',ascending=False).head(10).cumsum()\\\n",
    "    /newDF['UnitSalesValue'].sum()*100\n",
    "\n"
   ]
  },
  {
   "cell_type": "code",
   "execution_count": 27,
   "metadata": {},
   "outputs": [
    {
     "data": {
      "text/html": [
       "<div>\n",
       "<style>\n",
       "    .dataframe thead tr:only-child th {\n",
       "        text-align: right;\n",
       "    }\n",
       "\n",
       "    .dataframe thead th {\n",
       "        text-align: left;\n",
       "    }\n",
       "\n",
       "    .dataframe tbody tr th {\n",
       "        vertical-align: top;\n",
       "    }\n",
       "</style>\n",
       "<table border=\"1\" class=\"dataframe\">\n",
       "  <thead>\n",
       "    <tr style=\"text-align: right;\">\n",
       "      <th></th>\n",
       "      <th>UnitSalesValue</th>\n",
       "    </tr>\n",
       "    <tr>\n",
       "      <th>Description</th>\n",
       "      <th></th>\n",
       "    </tr>\n",
       "  </thead>\n",
       "  <tbody>\n",
       "    <tr>\n",
       "      <th>PAPER CRAFT , LITTLE BIRDIE</th>\n",
       "      <td>1.890494</td>\n",
       "    </tr>\n",
       "    <tr>\n",
       "      <th>REGENCY CAKESTAND 3 TIER</th>\n",
       "      <td>1.600117</td>\n",
       "    </tr>\n",
       "    <tr>\n",
       "      <th>WHITE HANGING HEART T-LIGHT HOLDER</th>\n",
       "      <td>1.127186</td>\n",
       "    </tr>\n",
       "    <tr>\n",
       "      <th>JUMBO BAG RED RETROSPOT</th>\n",
       "      <td>0.956311</td>\n",
       "    </tr>\n",
       "    <tr>\n",
       "      <th>MEDIUM CERAMIC TOP STORAGE JAR</th>\n",
       "      <td>0.913624</td>\n",
       "    </tr>\n",
       "    <tr>\n",
       "      <th>POSTAGE</th>\n",
       "      <td>0.873083</td>\n",
       "    </tr>\n",
       "    <tr>\n",
       "      <th>PARTY BUNTING</th>\n",
       "      <td>0.772542</td>\n",
       "    </tr>\n",
       "    <tr>\n",
       "      <th>ASSORTED COLOUR BIRD ORNAMENT</th>\n",
       "      <td>0.634920</td>\n",
       "    </tr>\n",
       "    <tr>\n",
       "      <th>Manual</th>\n",
       "      <td>0.603495</td>\n",
       "    </tr>\n",
       "    <tr>\n",
       "      <th>RABBIT NIGHT LIGHT</th>\n",
       "      <td>0.576185</td>\n",
       "    </tr>\n",
       "  </tbody>\n",
       "</table>\n",
       "</div>"
      ],
      "text/plain": [
       "                                    UnitSalesValue\n",
       "Description                                       \n",
       "PAPER CRAFT , LITTLE BIRDIE               1.890494\n",
       "REGENCY CAKESTAND 3 TIER                  1.600117\n",
       "WHITE HANGING HEART T-LIGHT HOLDER        1.127186\n",
       "JUMBO BAG RED RETROSPOT                   0.956311\n",
       "MEDIUM CERAMIC TOP STORAGE JAR            0.913624\n",
       "POSTAGE                                   0.873083\n",
       "PARTY BUNTING                             0.772542\n",
       "ASSORTED COLOUR BIRD ORNAMENT             0.634920\n",
       "Manual                                    0.603495\n",
       "RABBIT NIGHT LIGHT                        0.576185"
      ]
     },
     "execution_count": 27,
     "metadata": {},
     "output_type": "execute_result"
    }
   ],
   "source": [
    "newDF[['Description','UnitSalesValue']]\\\n",
    "    .groupby('Description')\\\n",
    "    .sum()\\\n",
    "    .sort_values('UnitSalesValue',ascending=False).head(10)/newDF['UnitSalesValue'].sum()*100"
   ]
  },
  {
   "cell_type": "code",
   "execution_count": 28,
   "metadata": {
    "collapsed": true
   },
   "outputs": [],
   "source": [
    "tpValueDF=newDF[['Description','UnitSalesValue']]\\\n",
    "    .groupby('Description')\\\n",
    "    .sum()\\\n",
    "    .sort_values('UnitSalesValue',ascending=False).head(10)"
   ]
  },
  {
   "cell_type": "code",
   "execution_count": 29,
   "metadata": {},
   "outputs": [
    {
     "data": {
      "text/plain": [
       "['PAPER CRAFT , LITTLE BIRDIE',\n",
       " 'REGENCY CAKESTAND 3 TIER',\n",
       " 'WHITE HANGING HEART T-LIGHT HOLDER',\n",
       " 'JUMBO BAG RED RETROSPOT',\n",
       " 'MEDIUM CERAMIC TOP STORAGE JAR',\n",
       " 'POSTAGE',\n",
       " 'PARTY BUNTING',\n",
       " 'ASSORTED COLOUR BIRD ORNAMENT',\n",
       " 'Manual',\n",
       " 'RABBIT NIGHT LIGHT']"
      ]
     },
     "execution_count": 29,
     "metadata": {},
     "output_type": "execute_result"
    }
   ],
   "source": [
    "tpValueL=tpValueDF.index.tolist()\n",
    "tpValueL"
   ]
  },
  {
   "cell_type": "code",
   "execution_count": 31,
   "metadata": {},
   "outputs": [
    {
     "data": {
      "text/plain": [
       "(array([   0.,  500., 1000., 1500., 2000., 2500., 3000., 3500., 4000.]),\n",
       " <a list of 9 Text xticklabel objects>)"
      ]
     },
     "execution_count": 31,
     "metadata": {},
     "output_type": "execute_result"
    },
    {
     "data": {
      "image/png": "[encoded data removed]",
      "text/plain": [
       "<matplotlib.figure.Figure at 0x7fa89279c8d0>"
      ]
     },
     "metadata": {},
     "output_type": "display_data"
    }
   ],
   "source": [
    "newDF[['Description','UnitSalesValue']]\\\n",
    "    .groupby('Description')\\\n",
    "    .sum()\\\n",
    "    .sort_values('UnitSalesValue',ascending=False).cumsum()\\\n",
    "    .plot()\n",
    "    \n",
    "plt.xticks(rotation=45)"
   ]
  },
  {
   "cell_type": "code",
   "execution_count": 23,
   "metadata": {},
   "outputs": [
    {
     "data": {
      "text/plain": [
       "(array([   0.,  500., 1000., 1500., 2000., 2500., 3000., 3500., 4000.]),\n",
       " <a list of 9 Text xticklabel objects>)"
      ]
     },
     "execution_count": 23,
     "metadata": {},
     "output_type": "execute_result"
    },
    {
     "data": {
      "image/png": "[encoded data removed]",
      "text/plain": [
       "<matplotlib.figure.Figure at 0x7f3e38a2cd30>"
      ]
     },
     "metadata": {},
     "output_type": "display_data"
    }
   ],
   "source": [
    "newDF[['Description','UnitSalesValue']]\\\n",
    "    .groupby('Description')\\\n",
    "    .sum()\\\n",
    "    .sort_values('UnitSalesValue',ascending=False)\\\n",
    "    .plot()\n",
    "    \n",
    "plt.xticks(rotation=90)"
   ]
  },
  {
   "cell_type": "code",
   "execution_count": 27,
   "metadata": {},
   "outputs": [
    {
     "name": "stdout",
     "output_type": "stream",
     "text": [
      "PAPER CRAFT , LITTLE BIRDIE 2.08    1\n",
      "Name: UnitPrice, dtype: int64\n",
      "REGENCY CAKESTAND 3 TIER 12.75    1401\n",
      "10.95     309\n",
      "24.96      10\n",
      "4.00        2\n",
      "0.00        1\n",
      "5.00        1\n",
      "Name: UnitPrice, dtype: int64\n",
      "WHITE HANGING HEART T-LIGHT HOLDER 2.95    1652\n",
      "2.55     357\n",
      "5.79       9\n",
      "3.20       5\n",
      "3.24       4\n",
      "2.40       1\n",
      "Name: UnitPrice, dtype: int64\n",
      "JUMBO BAG RED RETROSPOT 2.08    1077\n",
      "1.95     319\n",
      "1.79     135\n",
      "1.65      65\n",
      "1.74      11\n",
      "1.75       5\n",
      "4.13       5\n",
      "2.04       1\n",
      "Name: UnitPrice, dtype: int64\n",
      "MEDIUM CERAMIC TOP STORAGE JAR 1.25    170\n",
      "1.04     28\n",
      "Name: UnitPrice, dtype: int64\n",
      "POSTAGE 18.00      697\n",
      "15.00      137\n",
      "40.00      127\n",
      "28.00       99\n",
      "1.00         4\n",
      "4.95         3\n",
      "145.00       3\n",
      "6.00         2\n",
      "50.00        2\n",
      "35.00        2\n",
      "240.00       2\n",
      "300.00       1\n",
      "20.00        1\n",
      "4.50         1\n",
      "4.00         1\n",
      "10.00        1\n",
      "17.00        1\n",
      "5.00         1\n",
      "8142.75      1\n",
      "350.00       1\n",
      "45.00        1\n",
      "2.02         1\n",
      "550.94       1\n",
      "2.90         1\n",
      "523.00       1\n",
      "150.00       1\n",
      "700.00       1\n",
      "134.00       1\n",
      "36.50        1\n",
      "37.50        1\n",
      "65.00        1\n",
      "27.00        1\n",
      "Name: UnitPrice, dtype: int64\n",
      "PARTY BUNTING 4.95     1205\n",
      "4.15      103\n",
      "4.65       70\n",
      "3.75       13\n",
      "10.79       3\n",
      "4.30        2\n",
      "0.00        1\n",
      "Name: UnitPrice, dtype: int64\n",
      "ASSORTED COLOUR BIRD ORNAMENT 1.69    1354\n",
      "1.45      54\n",
      "Name: UnitPrice, dtype: int64\n",
      "Manual 1.25       21\n",
      "0.85       19\n",
      "0.39       14\n",
      "0.42       14\n",
      "1.00       13\n",
      "1.50       11\n",
      "0.08       10\n",
      "1.65        9\n",
      "0.19        8\n",
      "2.10        6\n",
      "0.00        6\n",
      "7.95        6\n",
      "15.00       6\n",
      "0.20        5\n",
      "2.55        5\n",
      "2.95        5\n",
      "10.00       4\n",
      "0.25        4\n",
      "0.50        3\n",
      "1.95        3\n",
      "4.95        3\n",
      "3.75        3\n",
      "1.45        3\n",
      "5.00        3\n",
      "0.29        3\n",
      "0.21        3\n",
      "0.79        3\n",
      "0.38        3\n",
      "2.00        2\n",
      "4161.06     2\n",
      "           ..\n",
      "239.30      1\n",
      "424.06      1\n",
      "2053.07     1\n",
      "293.00      1\n",
      "222.75      1\n",
      "219.50      1\n",
      "0.10        1\n",
      "9.95        1\n",
      "3949.32     1\n",
      "852.80      1\n",
      "4.25        1\n",
      "1867.86     1\n",
      "0.80        1\n",
      "2382.92     1\n",
      "275.60      1\n",
      "45.00       1\n",
      "3155.95     1\n",
      "1136.30     1\n",
      "308.82      1\n",
      "32.22       1\n",
      "5.95        1\n",
      "162.60      1\n",
      "20.00       1\n",
      "599.50      1\n",
      "35.00       1\n",
      "451.42      1\n",
      "320.69      1\n",
      "0.32        1\n",
      "14.95       1\n",
      "120.00      1\n",
      "Name: UnitPrice, Length: 106, dtype: int64\n",
      "RABBIT NIGHT LIGHT 2.08    578\n",
      "1.79    254\n",
      "4.13      9\n",
      "1.67      1\n",
      "Name: UnitPrice, dtype: int64\n"
     ]
    }
   ],
   "source": [
    "for i in tpValueL:\n",
    "    print(i,priceDist(i))"
   ]
  },
  {
   "cell_type": "markdown",
   "metadata": {},
   "source": [
    "# Who are our biggest customers, \n",
    "### by how much, \n",
    "### what do they buy, \n",
    "### when do they buy it, \n",
    "### where are they located"
   ]
  },
  {
   "cell_type": "code",
   "execution_count": 32,
   "metadata": {},
   "outputs": [
    {
     "data": {
      "text/html": [
       "<div>\n",
       "<style>\n",
       "    .dataframe thead tr:only-child th {\n",
       "        text-align: right;\n",
       "    }\n",
       "\n",
       "    .dataframe thead th {\n",
       "        text-align: left;\n",
       "    }\n",
       "\n",
       "    .dataframe tbody tr th {\n",
       "        vertical-align: top;\n",
       "    }\n",
       "</style>\n",
       "<table border=\"1\" class=\"dataframe\">\n",
       "  <thead>\n",
       "    <tr style=\"text-align: right;\">\n",
       "      <th></th>\n",
       "      <th>UnitSalesValue</th>\n",
       "    </tr>\n",
       "    <tr>\n",
       "      <th>CustomerID</th>\n",
       "      <th></th>\n",
       "    </tr>\n",
       "  </thead>\n",
       "  <tbody>\n",
       "    <tr>\n",
       "      <th>14646</th>\n",
       "      <td>3.144352</td>\n",
       "    </tr>\n",
       "    <tr>\n",
       "      <th>18102</th>\n",
       "      <td>6.058115</td>\n",
       "    </tr>\n",
       "    <tr>\n",
       "      <th>17450</th>\n",
       "      <td>8.241280</td>\n",
       "    </tr>\n",
       "    <tr>\n",
       "      <th>16446</th>\n",
       "      <td>10.131807</td>\n",
       "    </tr>\n",
       "    <tr>\n",
       "      <th>14911</th>\n",
       "      <td>11.745750</td>\n",
       "    </tr>\n",
       "    <tr>\n",
       "      <th>12415</th>\n",
       "      <td>13.147487</td>\n",
       "    </tr>\n",
       "    <tr>\n",
       "      <th>14156</th>\n",
       "      <td>14.464671</td>\n",
       "    </tr>\n",
       "    <tr>\n",
       "      <th>17511</th>\n",
       "      <td>15.486534</td>\n",
       "    </tr>\n",
       "    <tr>\n",
       "      <th>16029</th>\n",
       "      <td>16.395760</td>\n",
       "    </tr>\n",
       "    <tr>\n",
       "      <th>12346</th>\n",
       "      <td>17.261881</td>\n",
       "    </tr>\n",
       "    <tr>\n",
       "      <th>16684</th>\n",
       "      <td>18.009839</td>\n",
       "    </tr>\n",
       "    <tr>\n",
       "      <th>14096</th>\n",
       "      <td>18.741090</td>\n",
       "    </tr>\n",
       "    <tr>\n",
       "      <th>13694</th>\n",
       "      <td>19.470937</td>\n",
       "    </tr>\n",
       "    <tr>\n",
       "      <th>15311</th>\n",
       "      <td>20.152848</td>\n",
       "    </tr>\n",
       "    <tr>\n",
       "      <th>13089</th>\n",
       "      <td>20.812967</td>\n",
       "    </tr>\n",
       "    <tr>\n",
       "      <th>17949</th>\n",
       "      <td>21.469546</td>\n",
       "    </tr>\n",
       "    <tr>\n",
       "      <th>15769</th>\n",
       "      <td>22.100790</td>\n",
       "    </tr>\n",
       "    <tr>\n",
       "      <th>15061</th>\n",
       "      <td>22.712749</td>\n",
       "    </tr>\n",
       "    <tr>\n",
       "      <th>14298</th>\n",
       "      <td>23.290966</td>\n",
       "    </tr>\n",
       "    <tr>\n",
       "      <th>14088</th>\n",
       "      <td>23.857564</td>\n",
       "    </tr>\n",
       "  </tbody>\n",
       "</table>\n",
       "</div>"
      ],
      "text/plain": [
       "            UnitSalesValue\n",
       "CustomerID                \n",
       "14646             3.144352\n",
       "18102             6.058115\n",
       "17450             8.241280\n",
       "16446            10.131807\n",
       "14911            11.745750\n",
       "12415            13.147487\n",
       "14156            14.464671\n",
       "17511            15.486534\n",
       "16029            16.395760\n",
       "12346            17.261881\n",
       "16684            18.009839\n",
       "14096            18.741090\n",
       "13694            19.470937\n",
       "15311            20.152848\n",
       "13089            20.812967\n",
       "17949            21.469546\n",
       "15769            22.100790\n",
       "15061            22.712749\n",
       "14298            23.290966\n",
       "14088            23.857564"
      ]
     },
     "execution_count": 32,
     "metadata": {},
     "output_type": "execute_result"
    }
   ],
   "source": [
    "newDF[['CustomerID','UnitSalesValue']]\\\n",
    "    .groupby('CustomerID')\\\n",
    "    .sum()\\\n",
    "    .sort_values('UnitSalesValue',ascending=False).head(20).cumsum()\\\n",
    "    /newDF['UnitSalesValue'].sum()*100\n"
   ]
  },
  {
   "cell_type": "code",
   "execution_count": 30,
   "metadata": {
    "collapsed": true
   },
   "outputs": [],
   "source": [
    "tcValueDF=newDF[['CustomerID','UnitSalesValue']]\\\n",
    "    .groupby('CustomerID')\\\n",
    "    .sum()\\\n",
    "    .sort_values('UnitSalesValue',ascending=False).head(10)"
   ]
  },
  {
   "cell_type": "code",
   "execution_count": 31,
   "metadata": {},
   "outputs": [
    {
     "data": {
      "text/plain": [
       "['14646',\n",
       " '18102',\n",
       " '17450',\n",
       " '16446',\n",
       " '14911',\n",
       " '12415',\n",
       " '14156',\n",
       " '17511',\n",
       " '16029',\n",
       " '12346']"
      ]
     },
     "execution_count": 31,
     "metadata": {},
     "output_type": "execute_result"
    }
   ],
   "source": [
    "tcValueL=tcValueDF.index.tolist()\n",
    "tcValueL"
   ]
  },
  {
   "cell_type": "code",
   "execution_count": 71,
   "metadata": {},
   "outputs": [
    {
     "data": {
      "text/plain": [
       "(array([   0.,  500., 1000., 1500., 2000., 2500., 3000., 3500., 4000.,\n",
       "        4500.]), <a list of 10 Text xticklabel objects>)"
      ]
     },
     "execution_count": 71,
     "metadata": {},
     "output_type": "execute_result"
    },
    {
     "data": {
      "image/png": "[encoded data removed]",
      "text/plain": [
       "<matplotlib.figure.Figure at 0x7fd330f79d30>"
      ]
     },
     "metadata": {},
     "output_type": "display_data"
    }
   ],
   "source": [
    "newDF[['CustomerID','UnitSalesValue']]\\\n",
    "    .groupby('CustomerID')\\\n",
    "    .sum()\\\n",
    "    .sort_values('UnitSalesValue',ascending=False).cumsum()\\\n",
    "    .plot()\n",
    "    \n",
    "plt.xticks(rotation=90)"
   ]
  },
  {
   "cell_type": "code",
   "execution_count": 32,
   "metadata": {},
   "outputs": [
    {
     "data": {
      "text/html": [
       "<div>\n",
       "<style>\n",
       "    .dataframe thead tr:only-child th {\n",
       "        text-align: right;\n",
       "    }\n",
       "\n",
       "    .dataframe thead th {\n",
       "        text-align: left;\n",
       "    }\n",
       "\n",
       "    .dataframe tbody tr th {\n",
       "        vertical-align: top;\n",
       "    }\n",
       "</style>\n",
       "<table border=\"1\" class=\"dataframe\">\n",
       "  <thead>\n",
       "    <tr style=\"text-align: right;\">\n",
       "      <th></th>\n",
       "      <th>Description</th>\n",
       "      <th>UnitPrice</th>\n",
       "      <th>Quantity</th>\n",
       "      <th>UnitSalesValue</th>\n",
       "    </tr>\n",
       "  </thead>\n",
       "  <tbody>\n",
       "    <tr>\n",
       "      <th>421601</th>\n",
       "      <td>RABBIT NIGHT LIGHT</td>\n",
       "      <td>2.08</td>\n",
       "      <td>2400</td>\n",
       "      <td>4992.00</td>\n",
       "    </tr>\n",
       "    <tr>\n",
       "      <th>534952</th>\n",
       "      <td>RABBIT NIGHT LIGHT</td>\n",
       "      <td>1.79</td>\n",
       "      <td>1440</td>\n",
       "      <td>2577.60</td>\n",
       "    </tr>\n",
       "    <tr>\n",
       "      <th>204198</th>\n",
       "      <td>5 HOOK HANGER RED MAGIC TOADSTOOL</td>\n",
       "      <td>1.45</td>\n",
       "      <td>960</td>\n",
       "      <td>1392.00</td>\n",
       "    </tr>\n",
       "    <tr>\n",
       "      <th>409248</th>\n",
       "      <td>GINGHAM HEART DECORATION</td>\n",
       "      <td>0.72</td>\n",
       "      <td>1728</td>\n",
       "      <td>1244.16</td>\n",
       "    </tr>\n",
       "    <tr>\n",
       "      <th>137026</th>\n",
       "      <td>SPACEBOY LUNCH BOX</td>\n",
       "      <td>1.65</td>\n",
       "      <td>640</td>\n",
       "      <td>1056.00</td>\n",
       "    </tr>\n",
       "  </tbody>\n",
       "</table>\n",
       "</div>"
      ],
      "text/plain": [
       "                              Description  UnitPrice  Quantity  UnitSalesValue\n",
       "421601                 RABBIT NIGHT LIGHT       2.08      2400         4992.00\n",
       "534952                 RABBIT NIGHT LIGHT       1.79      1440         2577.60\n",
       "204198  5 HOOK HANGER RED MAGIC TOADSTOOL       1.45       960         1392.00\n",
       "409248           GINGHAM HEART DECORATION       0.72      1728         1244.16\n",
       "137026                SPACEBOY LUNCH BOX        1.65       640         1056.00"
      ]
     },
     "execution_count": 32,
     "metadata": {},
     "output_type": "execute_result"
    }
   ],
   "source": [
    "def custProds(c):\n",
    "    return newDF[['Description','UnitPrice','Quantity','UnitSalesValue']]\\\n",
    "    [newDF['CustomerID']==c]\\\n",
    "    .sort_values('UnitSalesValue',ascending=False).head(5)\n",
    "    \n",
    "custProds('14646')"
   ]
  },
  {
   "cell_type": "code",
   "execution_count": 18,
   "metadata": {},
   "outputs": [
    {
     "name": "stdout",
     "output_type": "stream",
     "text": [
      "height has been deprecated.\n",
      "\n"
     ]
    }
   ],
   "source": [
    "pd.set_option('display.height', 1000)\n",
    "pd.set_option('display.max_rows', 500)\n",
    "pd.set_option('display.max_columns', 500)\n",
    "pd.set_option('display.width', 1000)\n"
   ]
  },
  {
   "cell_type": "code",
   "execution_count": 24,
   "metadata": {},
   "outputs": [
    {
     "name": "stdout",
     "output_type": "stream",
     "text": [
      "CustomerID >> 14646\n",
      "                              Description  UnitPrice  Quantity  UnitSalesValue\n",
      "421601                 RABBIT NIGHT LIGHT       2.08      2400         4992.00\n",
      "534952                 RABBIT NIGHT LIGHT       1.79      1440         2577.60\n",
      "204198  5 HOOK HANGER RED MAGIC TOADSTOOL       1.45       960         1392.00\n",
      "409248           GINGHAM HEART DECORATION       0.72      1728         1244.16\n",
      "137026                SPACEBOY LUNCH BOX        1.65       640         1056.00\n",
      "\n",
      "\n",
      "____________________________________________________________________________________________________\n",
      "CustomerID >> 18102\n",
      "                          Description  UnitPrice  Quantity  UnitSalesValue\n",
      "16438    VINTAGE UNION JACK MEMOBOARD       6.38       600          3828.0\n",
      "411229  LANDMARK FRAME COVENT GARDEN       10.95       300          3285.0\n",
      "411235   LANDMARK FRAME BAKER STREET       10.95       300          3285.0\n",
      "411234    LANDMARK FRAME CAMDEN TOWN       10.95       300          3285.0\n",
      "411232  LANDMARK FRAME LONDON BRIDGE       10.95       300          3285.0\n",
      "\n",
      "\n",
      "____________________________________________________________________________________________________\n",
      "CustomerID >> 17450\n",
      "                                Description  UnitPrice  Quantity  UnitSalesValue\n",
      "348325  SET OF TEA COFFEE SUGAR TINS PANTRY       5.06      1412         7144.72\n",
      "52134                 HEART OF WICKER LARGE       3.21      1284         4121.64\n",
      "348319                PANTRY CHOPPING BOARD       5.06       756         3825.36\n",
      "348323    SET OF 6 SPICE TINS PANTRY DESIGN       4.25       852         3621.00\n",
      "52132    WHITE HANGING HEART T-LIGHT HOLDER       3.24      1010         3272.40\n",
      "\n",
      "\n",
      "____________________________________________________________________________________________________\n",
      "CustomerID >> 16446\n",
      "                        Description  UnitPrice  Quantity  UnitSalesValue\n",
      "540421  PAPER CRAFT , LITTLE BIRDIE       2.08     80995       168469.60\n",
      "194354       PANTRY SCRUBBING BRUSH       1.65         1            1.65\n",
      "194355          PANTRY PASTRY BRUSH       1.25         1            1.25\n",
      "\n",
      "\n",
      "____________________________________________________________________________________________________\n",
      "CustomerID >> 14911\n",
      "                              Description  UnitPrice  Quantity  UnitSalesValue\n",
      "117054                             Manual    1687.17         1         1687.17\n",
      "117055                             Manual    1687.17         1         1687.17\n",
      "321955                          BINGO SET       3.75       144          540.00\n",
      "321957       36 DOILIES VINTAGE CHRISTMAS       1.25       432          540.00\n",
      "290316  PAPER CHAIN KIT VINTAGE CHRISTMAS       2.55       200          510.00\n",
      "\n",
      "\n",
      "____________________________________________________________________________________________________\n",
      "CustomerID >> 12415\n",
      "                              Description  UnitPrice  Quantity  UnitSalesValue\n",
      "468139                 RABBIT NIGHT LIGHT       1.79       960          1718.4\n",
      "304887          FELTCRAFT CHRISTMAS FAIRY       3.75       336          1260.0\n",
      "108007      RED RETROSPOT ROUND CAKE TINS       8.95       120          1074.0\n",
      "304957       VINTAGE CHRISTMAS TABLECLOTH      10.39       100          1039.0\n",
      "45541   SET OF 3 CAKE TINS PANTRY DESIGN        4.25       240          1020.0\n",
      "\n",
      "\n",
      "____________________________________________________________________________________________________\n",
      "CustomerID >> 14156\n",
      "                              Description  UnitPrice  Quantity  UnitSalesValue\n",
      "285366           RED RETROSPOT CAKE STAND      10.95       216          2365.2\n",
      "58117            REGENCY CAKESTAND 3 TIER      10.95       160          1752.0\n",
      "386916  PAPER LANTERN 9 POINT DELUXE STAR       5.75       240          1380.0\n",
      "106278      3 TIER CAKE TIN RED AND CREAM      12.75        96          1224.0\n",
      "58122       3 TIER CAKE TIN RED AND CREAM      12.75        96          1224.0\n",
      "\n",
      "\n",
      "____________________________________________________________________________________________________\n",
      "CustomerID >> 17511\n",
      "                       Description  UnitPrice  Quantity  UnitSalesValue\n",
      "290094  VINTAGE UNION JACK BUNTING       7.45       100           745.0\n",
      "174801              SPOTTY BUNTING       4.15       150           622.5\n",
      "272030              SPOTTY BUNTING       4.15       150           622.5\n",
      "272031               PARTY BUNTING       4.15       150           622.5\n",
      "134344     JUMBO BAG RED RETROSPOT       1.65       300           495.0\n",
      "\n",
      "\n",
      "____________________________________________________________________________________________________\n",
      "CustomerID >> 16029\n",
      "                               Description  UnitPrice  Quantity  UnitSalesValue\n",
      "173382                             POSTAGE    8142.75         1         8142.75\n",
      "87631   GROW A FLYTRAP OR SUNFLOWER IN TIN       0.94      2400         2256.00\n",
      "32671   GROW A FLYTRAP OR SUNFLOWER IN TIN       0.94      2400         2256.00\n",
      "390557                FELTCRAFT DOLL MOLLY       2.55       720         1836.00\n",
      "383962                FELTCRAFT DOLL MOLLY       2.55       720         1836.00\n",
      "\n",
      "\n",
      "____________________________________________________________________________________________________\n",
      "CustomerID >> 12346\n",
      "                          Description  UnitPrice  Quantity  UnitSalesValue\n",
      "61619  MEDIUM CERAMIC TOP STORAGE JAR       1.04     74215         77183.6\n",
      "\n",
      "\n",
      "____________________________________________________________________________________________________\n"
     ]
    }
   ],
   "source": [
    "for i in tcValueL:\n",
    "    print('CustomerID >> {}'.format(i))\n",
    "    print(custProds(i))\n",
    "    print('\\n')\n",
    "    print('_'*100)"
   ]
  },
  {
   "cell_type": "code",
   "execution_count": 92,
   "metadata": {},
   "outputs": [
    {
     "data": {
      "text/plain": [
       "(array([ 0.,  5., 10., 15., 20., 25., 30., 35., 40.]),\n",
       " <a list of 9 Text xticklabel objects>)"
      ]
     },
     "execution_count": 92,
     "metadata": {},
     "output_type": "execute_result"
    },
    {
     "data": {
      "image/png": "[encoded data removed]",
      "text/plain": [
       "<matplotlib.figure.Figure at 0x7fd3357dc0f0>"
      ]
     },
     "metadata": {},
     "output_type": "display_data"
    }
   ],
   "source": [
    "newDF[['Country','UnitSalesValue']]\\\n",
    "    .groupby('Country')\\\n",
    "    .sum()\\\n",
    "    .sort_values('UnitSalesValue',ascending=False).cumsum()\\\n",
    "    .plot()\n",
    "    \n",
    "plt.xticks(rotation=90)"
   ]
  },
  {
   "cell_type": "code",
   "execution_count": 197,
   "metadata": {},
   "outputs": [
    {
     "data": {
      "text/plain": [
       "'0  Netherlands'"
      ]
     },
     "execution_count": 197,
     "metadata": {},
     "output_type": "execute_result"
    }
   ],
   "source": [
    "def custCountry(c):\n",
    "    return newDF[['Country']][newDF['CustomerID']==c]\\\n",
    "    .groupby('Country').count().reset_index().to_string(header=False)\n",
    "    \n",
    "custCountry('14646')"
   ]
  },
  {
   "cell_type": "code",
   "execution_count": 30,
   "metadata": {},
   "outputs": [
    {
     "data": {
      "text/html": [
       "<div>\n",
       "<style>\n",
       "    .dataframe thead tr:only-child th {\n",
       "        text-align: right;\n",
       "    }\n",
       "\n",
       "    .dataframe thead th {\n",
       "        text-align: left;\n",
       "    }\n",
       "\n",
       "    .dataframe tbody tr th {\n",
       "        vertical-align: top;\n",
       "    }\n",
       "</style>\n",
       "<table border=\"1\" class=\"dataframe\">\n",
       "  <thead>\n",
       "    <tr style=\"text-align: right;\">\n",
       "      <th></th>\n",
       "      <th>Country</th>\n",
       "    </tr>\n",
       "  </thead>\n",
       "  <tbody>\n",
       "    <tr>\n",
       "      <th>0</th>\n",
       "      <td>Netherlands</td>\n",
       "    </tr>\n",
       "  </tbody>\n",
       "</table>\n",
       "</div>"
      ],
      "text/plain": [
       "       Country\n",
       "0  Netherlands"
      ]
     },
     "execution_count": 30,
     "metadata": {},
     "output_type": "execute_result"
    }
   ],
   "source": [
    "def custCountry2(c):\n",
    "    return newDF[['Country']][newDF['CustomerID']==c].groupby('Country').count().reset_index()\n",
    "    \n",
    "custCountry2('14646')"
   ]
  },
  {
   "cell_type": "code",
   "execution_count": 31,
   "metadata": {},
   "outputs": [
    {
     "name": "stdout",
     "output_type": "stream",
     "text": [
      "14646        Country\n",
      "0  Netherlands\n",
      "18102           Country\n",
      "0  United Kingdom\n",
      "17450           Country\n",
      "0  United Kingdom\n",
      "16446           Country\n",
      "0  United Kingdom\n",
      "14911   Country\n",
      "0    EIRE\n",
      "12415      Country\n",
      "0  Australia\n",
      "14156   Country\n",
      "0    EIRE\n",
      "17511           Country\n",
      "0  United Kingdom\n",
      "16029           Country\n",
      "0  United Kingdom\n",
      "12346           Country\n",
      "0  United Kingdom\n"
     ]
    }
   ],
   "source": [
    "for i in tcValueL:\n",
    "    print('{} {}'.format(i,custCountry2(i)))"
   ]
  },
  {
   "cell_type": "code",
   "execution_count": 199,
   "metadata": {},
   "outputs": [
    {
     "name": "stdout",
     "output_type": "stream",
     "text": [
      "14646 0  Netherlands\n",
      "18102 0  United Kingdom\n",
      "17450 0  United Kingdom\n",
      "16446 0  United Kingdom\n",
      "14911 0  EIRE\n",
      "12415 0  Australia\n",
      "14156 0  EIRE\n",
      "17511 0  United Kingdom\n",
      "16029 0  United Kingdom\n",
      "12346 0  United Kingdom\n"
     ]
    }
   ],
   "source": [
    "for i in tcValueL:\n",
    "    print('{} {}'.format(i,custCountry(i)))"
   ]
  },
  {
   "cell_type": "code",
   "execution_count": null,
   "metadata": {
    "collapsed": true
   },
   "outputs": [],
   "source": []
  }
 ],
 "metadata": {
  "kernelspec": {
   "display_name": "Python 3",
   "language": "python",
   "name": "python3"
  },
  "language_info": {
   "codemirror_mode": {
    "name": "ipython",
    "version": 3
   },
   "file_extension": ".py",
   "mimetype": "text/x-python",
   "name": "python",
   "nbconvert_exporter": "python",
   "pygments_lexer": "ipython3",
   "version": "3.6.3"
  }
 },
 "nbformat": 4,
 "nbformat_minor": 2
}
