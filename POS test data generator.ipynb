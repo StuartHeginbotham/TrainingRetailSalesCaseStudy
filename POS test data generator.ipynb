{
 "cells": [
  {
   "cell_type": "code",
   "execution_count": 9,
   "metadata": {
    "collapsed": true
   },
   "outputs": [],
   "source": [
    "#pot products"
   ]
  },
  {
   "cell_type": "code",
   "execution_count": 25,
   "metadata": {},
   "outputs": [
    {
     "data": {
      "text/plain": [
       "'2017/04/07'"
      ]
     },
     "execution_count": 25,
     "metadata": {},
     "output_type": "execute_result"
    }
   ],
   "source": [
    "def random_date(in_start, in_end):\n",
    "    from random import randrange\n",
    "    from datetime import timedelta\n",
    "    from dateutil import parser as p      \n",
    "    start=p.parse(in_start)\n",
    "    end=p.parse(in_end)  \n",
    "    delta_days = (end - start).days\n",
    "    random_days = randrange(delta_days)\n",
    "    return (start + timedelta(days=random_days)).strftime('%Y/%m/%d')\n",
    "\n",
    "#testing\n",
    "random_date('2017/03/23','2017/07/02')"
   ]
  },
  {
   "cell_type": "code",
   "execution_count": 36,
   "metadata": {},
   "outputs": [
    {
     "data": {
      "text/plain": [
       "datetime.datetime(2018, 4, 3, 13, 23)"
      ]
     },
     "execution_count": 36,
     "metadata": {},
     "output_type": "execute_result"
    }
   ],
   "source": [
    "#from dateutil import parser as p\n",
    "from dateutil import parser as p\n",
    "start=p.parse('04-03-2018 1:23pm')\n",
    "start"
   ]
  },
  {
   "cell_type": "code",
   "execution_count": 39,
   "metadata": {},
   "outputs": [
    {
     "data": {
      "text/plain": [
       "2018"
      ]
     },
     "execution_count": 39,
     "metadata": {},
     "output_type": "execute_result"
    }
   ],
   "source": [
    "start.year\n"
   ]
  },
  {
   "cell_type": "code",
   "execution_count": 43,
   "metadata": {},
   "outputs": [
    {
     "data": {
      "text/plain": [
       "1"
      ]
     },
     "execution_count": 43,
     "metadata": {},
     "output_type": "execute_result"
    }
   ],
   "source": [
    "start.weekday() # 0:Mon,1:Tues, 2: Wed ....."
   ]
  },
  {
   "cell_type": "markdown",
   "metadata": {},
   "source": [
    "https://docs.python.org/2/library/datetime.html"
   ]
  },
  {
   "cell_type": "code",
   "execution_count": 17,
   "metadata": {
    "collapsed": true
   },
   "outputs": [],
   "source": [
    "def random_row(in_DF):\n",
    "    from random import randrange\n",
    "    import pandas as pd\n",
    "    return in_DF.loc[randrange(len(in_DF))]\n",
    "\n",
    "#testing\n",
    "#import pandas as pd\n",
    "#testDF=pd.DataFrame({'col1':['hat','mat','pat'],'col2':[10,23,72],'col3':['Y','N','Y']})\n",
    "#random_row(testDF)\n"
   ]
  },
  {
   "cell_type": "code",
   "execution_count": 18,
   "metadata": {
    "collapsed": true
   },
   "outputs": [],
   "source": [
    "def add_log_row(mylogDF,mypotDF,end_date):\n",
    "    import pandas as pd\n",
    "\n",
    "    last_log_date=mylogDF['date'].iloc[len(logDF)-1]\n",
    "\n",
    "    app_rowD=dict(random_row(mypotDF))\n",
    "\n",
    "    appDF=pd.DataFrame(\n",
    "        {'date':[random_date(last_log_date,end_date)],\n",
    "         'prod_id':[app_rowD['prod_id']],\n",
    "         'prod_desc':[app_rowD['prod_desc']],\n",
    "         'cost':[app_rowD['cost']]})\n",
    "\n",
    "    \n",
    "    return mylogDF.append(appDF)\n",
    "\n",
    "#testing\n",
    "#logDF=pd.DataFrame({'date':['2017/03/02'],'prod_id':['111'],'prod_desc':['cheese'],'cost':[100]})\n",
    "#potDF=pd.DataFrame({'prod_id':[123,344,345],\n",
    "#                    'prod_desc':['washing powder','baked beans','hair gel'],\n",
    "#                    'cost':[100,150,50]})\n",
    "#logDF=add_log_row(logDF,potDF,'2017/04/02')\n",
    "#logDF"
   ]
  },
  {
   "cell_type": "code",
   "execution_count": 19,
   "metadata": {},
   "outputs": [],
   "source": [
    "import pandas as pd\n",
    "\n",
    "#intialise log dataframe\n",
    "logDF=pd.DataFrame({'date':['2017/03/02'],'prod_id':['111'],'prod_desc':['cheese'],'cost':[100]})\n",
    "\n",
    "#create potential products dataframe\n",
    "potDF=pd.DataFrame({'prod_id':[123,344,345],\n",
    "                    'prod_desc':['washing powder','baked beans','hair gel'],\n",
    "                    'cost':[100,150,50]})\n",
    "\n",
    "for i in range(0,20):   \n",
    "    logDF=add_log_row(logDF,potDF,'2017/07/02')\n",
    " "
   ]
  },
  {
   "cell_type": "code",
   "execution_count": 20,
   "metadata": {},
   "outputs": [
    {
     "data": {
      "text/html": [
       "<div>\n",
       "<style>\n",
       "    .dataframe thead tr:only-child th {\n",
       "        text-align: right;\n",
       "    }\n",
       "\n",
       "    .dataframe thead th {\n",
       "        text-align: left;\n",
       "    }\n",
       "\n",
       "    .dataframe tbody tr th {\n",
       "        vertical-align: top;\n",
       "    }\n",
       "</style>\n",
       "<table border=\"1\" class=\"dataframe\">\n",
       "  <thead>\n",
       "    <tr style=\"text-align: right;\">\n",
       "      <th></th>\n",
       "      <th>cost</th>\n",
       "      <th>prod_desc</th>\n",
       "      <th>prod_id</th>\n",
       "    </tr>\n",
       "  </thead>\n",
       "  <tbody>\n",
       "    <tr>\n",
       "      <th>0</th>\n",
       "      <td>100</td>\n",
       "      <td>washing powder</td>\n",
       "      <td>123</td>\n",
       "    </tr>\n",
       "    <tr>\n",
       "      <th>1</th>\n",
       "      <td>150</td>\n",
       "      <td>baked beans</td>\n",
       "      <td>344</td>\n",
       "    </tr>\n",
       "    <tr>\n",
       "      <th>2</th>\n",
       "      <td>50</td>\n",
       "      <td>hair gel</td>\n",
       "      <td>345</td>\n",
       "    </tr>\n",
       "  </tbody>\n",
       "</table>\n",
       "</div>"
      ],
      "text/plain": [
       "   cost       prod_desc  prod_id\n",
       "0   100  washing powder      123\n",
       "1   150     baked beans      344\n",
       "2    50        hair gel      345"
      ]
     },
     "execution_count": 20,
     "metadata": {},
     "output_type": "execute_result"
    }
   ],
   "source": [
    "potDF"
   ]
  },
  {
   "cell_type": "code",
   "execution_count": 21,
   "metadata": {},
   "outputs": [
    {
     "data": {
      "text/html": [
       "<div>\n",
       "<style>\n",
       "    .dataframe thead tr:only-child th {\n",
       "        text-align: right;\n",
       "    }\n",
       "\n",
       "    .dataframe thead th {\n",
       "        text-align: left;\n",
       "    }\n",
       "\n",
       "    .dataframe tbody tr th {\n",
       "        vertical-align: top;\n",
       "    }\n",
       "</style>\n",
       "<table border=\"1\" class=\"dataframe\">\n",
       "  <thead>\n",
       "    <tr style=\"text-align: right;\">\n",
       "      <th></th>\n",
       "      <th>cost</th>\n",
       "      <th>date</th>\n",
       "      <th>prod_desc</th>\n",
       "      <th>prod_id</th>\n",
       "    </tr>\n",
       "  </thead>\n",
       "  <tbody>\n",
       "    <tr>\n",
       "      <th>0</th>\n",
       "      <td>100</td>\n",
       "      <td>2017/03/02</td>\n",
       "      <td>cheese</td>\n",
       "      <td>111</td>\n",
       "    </tr>\n",
       "    <tr>\n",
       "      <th>0</th>\n",
       "      <td>100</td>\n",
       "      <td>2017/06/10</td>\n",
       "      <td>washing powder</td>\n",
       "      <td>123</td>\n",
       "    </tr>\n",
       "    <tr>\n",
       "      <th>0</th>\n",
       "      <td>150</td>\n",
       "      <td>2017/06/14</td>\n",
       "      <td>baked beans</td>\n",
       "      <td>344</td>\n",
       "    </tr>\n",
       "    <tr>\n",
       "      <th>0</th>\n",
       "      <td>100</td>\n",
       "      <td>2017/06/26</td>\n",
       "      <td>washing powder</td>\n",
       "      <td>123</td>\n",
       "    </tr>\n",
       "    <tr>\n",
       "      <th>0</th>\n",
       "      <td>50</td>\n",
       "      <td>2017/06/27</td>\n",
       "      <td>hair gel</td>\n",
       "      <td>345</td>\n",
       "    </tr>\n",
       "    <tr>\n",
       "      <th>0</th>\n",
       "      <td>50</td>\n",
       "      <td>2017/07/01</td>\n",
       "      <td>hair gel</td>\n",
       "      <td>345</td>\n",
       "    </tr>\n",
       "    <tr>\n",
       "      <th>0</th>\n",
       "      <td>150</td>\n",
       "      <td>2017/07/01</td>\n",
       "      <td>baked beans</td>\n",
       "      <td>344</td>\n",
       "    </tr>\n",
       "    <tr>\n",
       "      <th>0</th>\n",
       "      <td>150</td>\n",
       "      <td>2017/07/01</td>\n",
       "      <td>baked beans</td>\n",
       "      <td>344</td>\n",
       "    </tr>\n",
       "    <tr>\n",
       "      <th>0</th>\n",
       "      <td>100</td>\n",
       "      <td>2017/07/01</td>\n",
       "      <td>washing powder</td>\n",
       "      <td>123</td>\n",
       "    </tr>\n",
       "    <tr>\n",
       "      <th>0</th>\n",
       "      <td>150</td>\n",
       "      <td>2017/07/01</td>\n",
       "      <td>baked beans</td>\n",
       "      <td>344</td>\n",
       "    </tr>\n",
       "    <tr>\n",
       "      <th>0</th>\n",
       "      <td>50</td>\n",
       "      <td>2017/07/01</td>\n",
       "      <td>hair gel</td>\n",
       "      <td>345</td>\n",
       "    </tr>\n",
       "    <tr>\n",
       "      <th>0</th>\n",
       "      <td>50</td>\n",
       "      <td>2017/07/01</td>\n",
       "      <td>hair gel</td>\n",
       "      <td>345</td>\n",
       "    </tr>\n",
       "    <tr>\n",
       "      <th>0</th>\n",
       "      <td>100</td>\n",
       "      <td>2017/07/01</td>\n",
       "      <td>washing powder</td>\n",
       "      <td>123</td>\n",
       "    </tr>\n",
       "    <tr>\n",
       "      <th>0</th>\n",
       "      <td>100</td>\n",
       "      <td>2017/07/01</td>\n",
       "      <td>washing powder</td>\n",
       "      <td>123</td>\n",
       "    </tr>\n",
       "    <tr>\n",
       "      <th>0</th>\n",
       "      <td>50</td>\n",
       "      <td>2017/07/01</td>\n",
       "      <td>hair gel</td>\n",
       "      <td>345</td>\n",
       "    </tr>\n",
       "    <tr>\n",
       "      <th>0</th>\n",
       "      <td>150</td>\n",
       "      <td>2017/07/01</td>\n",
       "      <td>baked beans</td>\n",
       "      <td>344</td>\n",
       "    </tr>\n",
       "    <tr>\n",
       "      <th>0</th>\n",
       "      <td>150</td>\n",
       "      <td>2017/07/01</td>\n",
       "      <td>baked beans</td>\n",
       "      <td>344</td>\n",
       "    </tr>\n",
       "    <tr>\n",
       "      <th>0</th>\n",
       "      <td>100</td>\n",
       "      <td>2017/07/01</td>\n",
       "      <td>washing powder</td>\n",
       "      <td>123</td>\n",
       "    </tr>\n",
       "    <tr>\n",
       "      <th>0</th>\n",
       "      <td>50</td>\n",
       "      <td>2017/07/01</td>\n",
       "      <td>hair gel</td>\n",
       "      <td>345</td>\n",
       "    </tr>\n",
       "    <tr>\n",
       "      <th>0</th>\n",
       "      <td>50</td>\n",
       "      <td>2017/07/01</td>\n",
       "      <td>hair gel</td>\n",
       "      <td>345</td>\n",
       "    </tr>\n",
       "    <tr>\n",
       "      <th>0</th>\n",
       "      <td>50</td>\n",
       "      <td>2017/07/01</td>\n",
       "      <td>hair gel</td>\n",
       "      <td>345</td>\n",
       "    </tr>\n",
       "  </tbody>\n",
       "</table>\n",
       "</div>"
      ],
      "text/plain": [
       "   cost        date       prod_desc prod_id\n",
       "0   100  2017/03/02          cheese     111\n",
       "0   100  2017/06/10  washing powder     123\n",
       "0   150  2017/06/14     baked beans     344\n",
       "0   100  2017/06/26  washing powder     123\n",
       "0    50  2017/06/27        hair gel     345\n",
       "0    50  2017/07/01        hair gel     345\n",
       "0   150  2017/07/01     baked beans     344\n",
       "0   150  2017/07/01     baked beans     344\n",
       "0   100  2017/07/01  washing powder     123\n",
       "0   150  2017/07/01     baked beans     344\n",
       "0    50  2017/07/01        hair gel     345\n",
       "0    50  2017/07/01        hair gel     345\n",
       "0   100  2017/07/01  washing powder     123\n",
       "0   100  2017/07/01  washing powder     123\n",
       "0    50  2017/07/01        hair gel     345\n",
       "0   150  2017/07/01     baked beans     344\n",
       "0   150  2017/07/01     baked beans     344\n",
       "0   100  2017/07/01  washing powder     123\n",
       "0    50  2017/07/01        hair gel     345\n",
       "0    50  2017/07/01        hair gel     345\n",
       "0    50  2017/07/01        hair gel     345"
      ]
     },
     "execution_count": 21,
     "metadata": {},
     "output_type": "execute_result"
    }
   ],
   "source": [
    "logDF"
   ]
  },
  {
   "cell_type": "code",
   "execution_count": 1,
   "metadata": {
    "collapsed": true
   },
   "outputs": [],
   "source": [
    "from dateutil import parser as p"
   ]
  },
  {
   "cell_type": "code",
   "execution_count": 11,
   "metadata": {},
   "outputs": [
    {
     "data": {
      "text/plain": [
       "datetime.datetime(2017, 12, 11, 0, 0)"
      ]
     },
     "execution_count": 11,
     "metadata": {},
     "output_type": "execute_result"
    }
   ],
   "source": [
    "p.parse('2017-12-11')"
   ]
  },
  {
   "cell_type": "code",
   "execution_count": null,
   "metadata": {
    "collapsed": true
   },
   "outputs": [],
   "source": []
  }
 ],
 "metadata": {
  "kernelspec": {
   "display_name": "Python 3",
   "language": "python",
   "name": "python3"
  },
  "language_info": {
   "codemirror_mode": {
    "name": "ipython",
    "version": 3
   },
   "file_extension": ".py",
   "mimetype": "text/x-python",
   "name": "python",
   "nbconvert_exporter": "python",
   "pygments_lexer": "ipython3",
   "version": "3.6.3"
  }
 },
 "nbformat": 4,
 "nbformat_minor": 2
}
